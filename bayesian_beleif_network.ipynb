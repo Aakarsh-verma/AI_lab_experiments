{
 "cells": [
  {
   "cell_type": "code",
   "execution_count": 1,
   "source": [
    "from pybbn.graph.dag import Bbn\r\n",
    "from pybbn.graph.edge import Edge, EdgeType\r\n",
    "from pybbn.graph.jointree import EvidenceBuilder\r\n",
    "from pybbn.graph.node import BbnNode\r\n",
    "from pybbn.graph.variable import Variable\r\n",
    "from pybbn.pptc.inferencecontroller import InferenceController"
   ],
   "outputs": [],
   "metadata": {}
  },
  {
   "cell_type": "code",
   "execution_count": 2,
   "source": [
    "# create the nodes\r\n",
    "season = BbnNode(Variable(0, 'season', ['winter', 'summer']), [0.5, 0.5])\r\n",
    "atmos_pres = BbnNode(Variable(1, 'atmos_press', ['high', 'low']), [0.5, 0.5])\r\n",
    "allergies = BbnNode(Variable(2, 'allergies', ['allergic', 'non_alergic']), [0.7, 0.3, 0.2, 0.8])\r\n",
    "rain = BbnNode(Variable(3, 'rain', ['rainy', 'sunny']), [0.9, 0.1, 0.7, 0.3, 0.3, 0.7, 0.1, 0.9])\r\n",
    "grass = BbnNode(Variable(4, 'grass', ['grass', 'no_grass']), [0.8, 0.2, 0.3, 0.7])\r\n",
    "umbrellas = BbnNode(Variable(5, 'umbrellas', ['on', 'off']), [0.99, 0.01, 0.80, 0.20, 0.20, 0.80, 0.01, 0.99])\r\n",
    "dog_bark = BbnNode(Variable(6, 'dog_bark', ['bark', 'not_bark']), [0.8, 0.2, 0.1, 0.9])\r\n",
    "cat_mood = BbnNode(Variable(7, 'cat_mood', ['good', 'bad']), [0.05, 0.95, 0.95, 0.05])\r\n",
    "cat_hide = BbnNode(Variable(8, 'cat_hide', ['hide', 'show']), [0.20, 0.80, 0.95, 0.05, 0.95, 0.05, 0.70, 0.30])\r\n",
    "\r\n",
    "bbn = Bbn() \\\r\n",
    "    .add_node(season) \\\r\n",
    "    .add_node(atmos_pres) \\\r\n",
    "    .add_node(allergies) \\\r\n",
    "    .add_node(rain) \\\r\n",
    "    .add_node(grass) \\\r\n",
    "    .add_node(umbrellas) \\\r\n",
    "    .add_node(dog_bark) \\\r\n",
    "    .add_node(cat_mood) \\\r\n",
    "    .add_node(cat_hide) \\\r\n",
    "    .add_edge(Edge(season, allergies, EdgeType.DIRECTED)) \\\r\n",
    "    .add_edge(Edge(season, umbrellas, EdgeType.DIRECTED)) \\\r\n",
    "    .add_edge(Edge(season, rain, EdgeType.DIRECTED)) \\\r\n",
    "    .add_edge(Edge(atmos_pres, rain, EdgeType.DIRECTED)) \\\r\n",
    "    .add_edge(Edge(rain, grass, EdgeType.DIRECTED)) \\\r\n",
    "    .add_edge(Edge(rain, umbrellas, EdgeType.DIRECTED)) \\\r\n",
    "    .add_edge(Edge(rain, dog_bark, EdgeType.DIRECTED)) \\\r\n",
    "    .add_edge(Edge(rain, cat_mood, EdgeType.DIRECTED)) \\\r\n",
    "    .add_edge(Edge(dog_bark, cat_hide, EdgeType.DIRECTED)) \\\r\n",
    "    .add_edge(Edge(cat_mood, cat_hide, EdgeType.DIRECTED))"
   ],
   "outputs": [],
   "metadata": {}
  },
  {
   "cell_type": "code",
   "execution_count": null,
   "source": [
    "%matplotlib inline\r\n",
    "from pybbn.generator.bbngenerator import convert_for_drawing\r\n",
    "import matplotlib.pyplot as plt\r\n",
    "import networkx as nx\r\n",
    "import warnings\r\n",
    "\r\n",
    "with warnings.catch_warnings():\r\n",
    "    warnings.simplefilter('ignore')\r\n",
    "    \r\n",
    "    graph = convert_for_drawing(bbn)\r\n",
    "    pos = nx.nx_agraph.graphviz_layout(graph, prog='neato')\r\n",
    "\r\n",
    "    plt.figure(figsize=(20, 10))\r\n",
    "    plt.subplot(121) \r\n",
    "    labels = dict([(k, node.variable.name) for k, node in bbn.nodes.items()])\r\n",
    "    nx.draw(graph, pos=pos, with_labels=True, labels=labels)\r\n",
    "    plt.title('BBN DAG')"
   ],
   "outputs": [],
   "metadata": {}
  },
  {
   "cell_type": "code",
   "execution_count": 8,
   "source": [
    " # convert the BBN to a join tree\r\n",
    "join_tree = InferenceController.apply(bbn)\r\n",
    "\r\n",
    "# insert an observation evidence\r\n",
    "ev = EvidenceBuilder() \\\r\n",
    "    .with_node(join_tree.get_bbn_node_by_name('season')) \\\r\n",
    "    .with_evidence('winter', 1.0) \\\r\n",
    "    .build()\r\n",
    "\r\n",
    "join_tree.set_observation(ev)\r\n",
    "print('66_Aakarsh\\n')\r\n",
    "# print the marginal probabilities\r\n",
    "for node in join_tree.get_bbn_nodes():\r\n",
    "    potential = join_tree.get_bbn_potential(node)\r\n",
    "    print(node)\r\n",
    "    print(potential)\r\n",
    "    print('--------------------->')"
   ],
   "outputs": [
    {
     "output_type": "stream",
     "name": "stdout",
     "text": [
      "66_Aakarsh\n",
      "\n",
      "0|season|winter,summer\n",
      "0=winter|1.00000\n",
      "0=summer|0.00000\n",
      "--------------------->\n",
      "2|allergies|allergic,non_alergic\n",
      "2=allergic|0.70000\n",
      "2=non_alergic|0.30000\n",
      "--------------------->\n",
      "3|rain|rainy,sunny\n",
      "3=rainy|0.80000\n",
      "3=sunny|0.20000\n",
      "--------------------->\n",
      "4|grass|grass,no_grass\n",
      "4=grass|0.70000\n",
      "4=no_grass|0.30000\n",
      "--------------------->\n",
      "1|atmos_press|high,low\n",
      "1=high|0.50000\n",
      "1=low|0.50000\n",
      "--------------------->\n",
      "5|umbrellas|on,off\n",
      "5=on|0.95200\n",
      "5=off|0.04800\n",
      "--------------------->\n",
      "6|dog_bark|bark,not_bark\n",
      "6=bark|0.66000\n",
      "6=not_bark|0.34000\n",
      "--------------------->\n",
      "7|cat_mood|good,bad\n",
      "7=good|0.23000\n",
      "7=bad|0.77000\n",
      "--------------------->\n",
      "8|cat_hide|hide,show\n",
      "8=hide|0.87150\n",
      "8=show|0.12850\n",
      "--------------------->\n"
     ]
    }
   ],
   "metadata": {}
  },
  {
   "cell_type": "code",
   "execution_count": null,
   "source": [],
   "outputs": [],
   "metadata": {}
  }
 ],
 "metadata": {
  "kernelspec": {
   "display_name": "Python 3",
   "language": "python",
   "name": "python3"
  },
  "language_info": {
   "codemirror_mode": {
    "name": "ipython",
    "version": 3
   },
   "file_extension": ".py",
   "mimetype": "text/x-python",
   "name": "python",
   "nbconvert_exporter": "python",
   "pygments_lexer": "ipython3",
   "version": "3.7.7"
  }
 },
 "nbformat": 4,
 "nbformat_minor": 4
}